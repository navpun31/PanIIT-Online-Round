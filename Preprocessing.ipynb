{
 "cells": [
  {
   "cell_type": "markdown",
   "metadata": {},
   "source": [
    "# Preprocessing and Augmentation"
   ]
  },
  {
   "cell_type": "code",
   "execution_count": 2,
   "metadata": {
    "collapsed": true
   },
   "outputs": [],
   "source": [
    "import cv2\n",
    "from skimage import morphology\n",
    "import numpy as np\n",
    "import pandas as pd\n",
    "import matplotlib as mpl\n",
    "import matplotlib.pyplot as plt"
   ]
  },
  {
   "cell_type": "code",
   "execution_count": 3,
   "metadata": {
    "collapsed": true
   },
   "outputs": [],
   "source": [
    "path = \"./images/training/\"\n",
    "path_test = \"./testing/\"\n",
    "path_pg = \"./images/playground/\"\n",
    "path_t = \"./images/test/\""
   ]
  },
  {
   "cell_type": "markdown",
   "metadata": {},
   "source": [
    "## Helper Functions"
   ]
  },
  {
   "cell_type": "code",
   "execution_count": 5,
   "metadata": {
    "collapsed": true
   },
   "outputs": [],
   "source": [
    "def rm_small(img, ms = 20, conn = 2):\n",
    "    '''\n",
    "    Removes small objects from image with size less than a given size.\n",
    "    Mainly used for removing small dots and cleaning the image.\n",
    "    \n",
    "    img: black and white image from which small objects are to be removed\n",
    "    ms: min size, objects with size < ms will be removed\n",
    "    conn: connectivity, defines 4-connectivity or 8-connectivity\n",
    "    \n",
    "    return\n",
    "    bin_im: black and white image with small objects removed\n",
    "    '''\n",
    "    mor = morphology.label(img)\n",
    "    cleaned = morphology.remove_small_objects(mor,min_size = ms, connectivity = conn)\n",
    "    \n",
    "    bin_im = np.zeros((cleaned.shape))\n",
    "    bin_im[cleaned>0] = 255\n",
    "    bin_im = np.uint8(bin_im)\n",
    "    return bin_im"
   ]
  },
  {
   "cell_type": "code",
   "execution_count": 6,
   "metadata": {
    "collapsed": true
   },
   "outputs": [],
   "source": [
    "def rot_image(img, angle):\n",
    "    '''\n",
    "    Rotate the image by the given angle.\n",
    "    Used while vertically aligning the face.\n",
    "    \n",
    "    img: black and white image to be rotated\n",
    "    angle: angle by which img is to be rotated\n",
    "    \n",
    "    return\n",
    "    img_rot: rotated black and white image\n",
    "    '''\n",
    "    rows,cols = img.shape[0], img.shape[1]\n",
    "    M = cv2.getRotationMatrix2D((cols/2,rows/2),angle,1)\n",
    "    img_rot = cv2.warpAffine(img,M,(cols,rows))\n",
    "    return img_rot"
   ]
  },
  {
   "cell_type": "code",
   "execution_count": 7,
   "metadata": {
    "collapsed": true
   },
   "outputs": [],
   "source": [
    "def crop_rect(img, rect):\n",
    "    '''\n",
    "    Crops image based on a \"rotated rectangle\" (non-vertical rectangle)\n",
    "    by first making the rectangle vertical and then croping it\n",
    "    \n",
    "    img: black and white image to be cropped\n",
    "    rect: rotated rect based on which img is to be cropped\n",
    "    \n",
    "    return\n",
    "    img_crop: the cropped image based on rect\n",
    "    '''\n",
    "    # rotate img\n",
    "    img_rot = rot_image(img,rect[2])\n",
    "\n",
    "    # rotate bounding box\n",
    "    rect0 = (rect[0], rect[1], 0.0) \n",
    "    box = cv2.boxPoints(rect0)\n",
    "    pts = np.int0(cv2.transform(np.array([box]), M))[0]    \n",
    "    pts[pts < 0] = 0\n",
    "\n",
    "    # crop\n",
    "    img_crop = img_rot[pts[1][1]:pts[0][1], pts[1][0]:pts[2][0]]\n",
    "    return img_crop"
   ]
  },
  {
   "cell_type": "code",
   "execution_count": 8,
   "metadata": {
    "collapsed": true
   },
   "outputs": [],
   "source": [
    "def vert_count(img, batch=10):\n",
    "    '''\n",
    "    Gives the maximum number of white pixels\n",
    "    by counting the white pixels column-wise\n",
    "    and then taking the max value over all continuous batches\n",
    "    \n",
    "    This is used to check if the alignment of white objects is vertical or horizontal\n",
    "    \n",
    "    img: black and white image\n",
    "    batch: number of adjacent columns to be clubbed\n",
    "    \n",
    "    return\n",
    "    max count of white pixels, counted batch-wise\n",
    "    '''\n",
    "#   column-wise sum of all the rows\n",
    "    col = np.sum(img, axis=0)\n",
    "    \n",
    "#   initial sum of a \"batch\"\n",
    "    s = np.sum(col[:batch])\n",
    "    \n",
    "#   return the maximum sum of all the continuous batches over the \"col-wise\" sum array\n",
    "    l = [s]\n",
    "    for i in range(batch+1,col.shape[0]):\n",
    "        s += col[i]\n",
    "        s -= col[i-batch]\n",
    "        l += [s]\n",
    "    return max(l)"
   ]
  },
  {
   "cell_type": "code",
   "execution_count": 9,
   "metadata": {
    "collapsed": true
   },
   "outputs": [],
   "source": [
    "def count_eyes(img):\n",
    "    '''\n",
    "    Counts the number of white objects in the image.\n",
    "    Used here to count the number of eyes.\n",
    "    \n",
    "    img: black and white image\n",
    "    \n",
    "    return\n",
    "    count of number of white objects, in our case eyes\n",
    "    '''\n",
    "#   remove small white objects (if any) so that they do not get labeled\n",
    "    img = rm_small(img,12)\n",
    "    \n",
    "#   again dilate the image to fill holes in eyes\n",
    "    kernel = cv2.getStructuringElement(cv2.MORPH_ELLIPSE,(2,2))\n",
    "    img = cv2.dilate(img,kernel,iterations = 3)\n",
    "    img = rm_small(img,30)\n",
    "    \n",
    "#   return the number of labels as the eye count\n",
    "    _,lbl = morphology.label(img, return_num=True)\n",
    "    return lbl"
   ]
  },
  {
   "cell_type": "markdown",
   "metadata": {},
   "source": [
    "## Preprocessing"
   ]
  },
  {
   "cell_type": "code",
   "execution_count": 10,
   "metadata": {
    "scrolled": true
   },
   "outputs": [
    {
     "name": "stderr",
     "output_type": "stream",
     "text": [
      "/home/navpun31/anaconda3/lib/python3.6/site-packages/skimage/morphology/misc.py:127: UserWarning: Only one label was provided to `remove_small_objects`. Did you mean to use a boolean array?\n",
      "  warn(\"Only one label was provided to `remove_small_objects`. \"\n"
     ]
    }
   ],
   "source": [
    "vis = []\n",
    "eye_vis = []\n",
    "\n",
    "for i in range(1,8):\n",
    "    c = i\n",
    "    \n",
    "    images = []\n",
    "#   DEFINING READ/WRITE PATHS\n",
    "    read = path\n",
    "#     read = path_test\n",
    "    \n",
    "    write = path_pg\n",
    "#     write = './images/v10/'\n",
    "#     write = './images/test_v5/'\n",
    "    \n",
    "    mi = cv2.imread(read+str(c)+'.png',0)\n",
    "    images.append(mi)\n",
    "    \n",
    "#   SEGMENTING FACIAL LANDMARKS (EYES, NOSE AND MOUTH)\n",
    "    \n",
    "    ret,mi2 = cv2.threshold(mi,20,255,cv2.THRESH_BINARY_INV)\n",
    "    dil = rm_small(mi2,22)\n",
    "    kernel = np.ones((1,1),np.uint8)\n",
    "#     dil = cv2.dilate(dil,kernel,iterations = 1)\n",
    "    dil = cv2.erode(dil,kernel,iterations = 3)\n",
    "    \n",
    "    images.append(dil)\n",
    "    \n",
    "    kernel = np.ones((4,4),np.uint8)\n",
    "    dil_dot = cv2.morphologyEx(dil, cv2.MORPH_OPEN, kernel)\n",
    "    dil_dot_i = ~dil_dot\n",
    "    dil = np.bitwise_and(dil,dil_dot_i)\n",
    "    dil = rm_small(dil,15)\n",
    "    \n",
    "    images.append(dil)\n",
    "\n",
    "    \n",
    "#   FACE MASK\n",
    "    \n",
    "    ret,white = cv2.threshold(mi,250,255,cv2.THRESH_BINARY)\n",
    "    ret,black = cv2.threshold(mi,20,255,cv2.THRESH_BINARY_INV)\n",
    "    \n",
    "    mask = np.bitwise_or(black,white)\n",
    "    mask = ~mask\n",
    "    dil1 = rm_small(mask,150)\n",
    "    dil1_i = ~dil1\n",
    "\n",
    "#     kernel = np.ones((4,4),np.uint8)\n",
    "#     dil1 = cv2.erode(dil1,kernel,iterations = 4)\n",
    "#     dil1 = cv2.dilate(dil1,kernel,iterations = 4)\n",
    "#     dil1 = cv2.dilate(dil1,kernel,iterations = 5)\n",
    "#     dil1 = cv2.erode(dil1,kernel,iterations = 15)\n",
    "\n",
    "    dil1_i = rm_small(dil1_i,1200)\n",
    "    dil2 = ~dil1_i\n",
    "    \n",
    "#     kernel = np.ones((5,5),np.uint8)\n",
    "    kernel = cv2.getStructuringElement(cv2.MORPH_ELLIPSE,(5,5))\n",
    "    dil2 = cv2.erode(dil2,kernel,iterations = 3)\n",
    "    dil2 = rm_small(dil2,10)\n",
    "    face_mask = dil2\n",
    "    \n",
    "    images.append(face_mask)\n",
    "\n",
    "    # cv2.imwrite(path2+str(c)+\"_dil1.png\",dil1)\n",
    "    # cv2.imwrite(path2+str(c)+\"_dil1_i.png\",dil1_i)\n",
    "    # cv2.imwrite(path2+str(c)+\"_dil2.png\",dil2)\n",
    "\n",
    "    im = np.bitwise_and(dil,face_mask)\n",
    "    im = np.uint8(im)\n",
    "\n",
    "    \n",
    "#   EYES\n",
    "\n",
    "    eyes = np.bitwise_and(white,face_mask)\n",
    "    eyes = rm_small(eyes,30)\n",
    "    \n",
    "    kernel = cv2.getStructuringElement(cv2.MORPH_ELLIPSE,(3,3))\n",
    "    eyes = cv2.dilate(eyes,kernel,iterations = 3)\n",
    "    eyes = cv2.erode(eyes,kernel,iterations = 3)\n",
    "    \n",
    "    eyes = rm_small(eyes,30)\n",
    "    im = np.bitwise_or(im,eyes)\n",
    "    \n",
    "#     images.append(eyes)\n",
    "    \n",
    "#   MOUTH\n",
    "\n",
    "    mouth = np.bitwise_and(black,face_mask)\n",
    "#     mouth = ~mouth\n",
    "#     mouth = cv2.morphologyEx(mouth, cv2.MORPH_GRADIENT, kernel)\n",
    "#     mouth = cv2.dilate(mouth,kernel,iterations = 2)\n",
    "#     mouth = cv2.morphologyEx(mouth, cv2.MORPH_GRADIENT, kernel)\n",
    "    \n",
    "    \n",
    "#   NOISE REM / FINAL PROCESSING \n",
    "    \n",
    "    kernel = cv2.getStructuringElement(cv2.MORPH_ELLIPSE,(2,2))\n",
    "    im = cv2.dilate(im,kernel,iterations = 2)\n",
    "    im = cv2.erode(im,kernel,iterations = 2)\n",
    "    \n",
    "    im = cv2.morphologyEx(im, cv2.MORPH_GRADIENT, kernel)\n",
    "    im = cv2.morphologyEx(im, cv2.MORPH_CLOSE, kernel)\n",
    "    \n",
    "    images.append(im)\n",
    "    \n",
    "    \n",
    "#   VERTICAL ALIGNMENT / FINDING VERTICAL ANGLE\n",
    "    \n",
    "    draw_im = face_mask\n",
    "    _, contours, hierarchy = cv2.findContours(draw_im.copy() ,cv2.RETR_TREE, cv2.CHAIN_APPROX_SIMPLE)\n",
    "    contour = contours[0]\n",
    "    \n",
    "    draw = cv2.cvtColor(im, cv2.COLOR_GRAY2BGR)\n",
    "#     cv2.drawContours(draw, [contour], 0, (0,255,0), 2)\n",
    "    \n",
    "    rotrect = cv2.minAreaRect(contour)\n",
    "    \n",
    "#     box = cv2.boxPoints(rotrect)\n",
    "#     box = np.int0(box)\n",
    "#     cv2.drawContours(draw, [box], 0, (0,0,255), 2)\n",
    "    \n",
    "#     imc = crop_minAreaRect(im, rotrect)\n",
    "    \n",
    "    e1 = rot_image(eyes,rotrect[2])\n",
    "    e2 = rot_image(eyes,rotrect[2]+90)\n",
    "    \n",
    "    n_eyes = count_eyes(e1)\n",
    "    \n",
    "    kernel = cv2.getStructuringElement(cv2.MORPH_ELLIPSE,(4,4))\n",
    "    e1 = cv2.dilate(e1,kernel,iterations = 5)\n",
    "    e2 = cv2.dilate(e2,kernel,iterations = 5)\n",
    "    eye_images = [e1, e2]\n",
    "    \n",
    "    angle = rotrect[2]\n",
    "    if (n_eyes > 1):\n",
    "        if vert_count(e1) > vert_count(e2):\n",
    "            angle += 90\n",
    "    else:\n",
    "#         kernel = cv2.getStructuringElement(cv2.MORPH_ELLIPSE,(2,2))\n",
    "#         e1 = cv2.dilate(e1,kernel,iterations = 3)\n",
    "#         e2 = cv2.dilate(e1,kernel,iterations = 3)\n",
    "        im1 = rot_image(im,angle)\n",
    "        im2 = rot_image(im,angle+90)\n",
    "        \n",
    "        e1i = ~e1\n",
    "        e2i = ~e2\n",
    "        im1 = np.bitwise_and(e1i,im1)\n",
    "        im2 = np.bitwise_and(e2i,im2)\n",
    "        \n",
    "        if vert_count(im1) < vert_count(im2):\n",
    "            angle += 90\n",
    "    \n",
    "    \n",
    "#   JOINING MOUTH AND REMOVING EXTRA DOTS \n",
    "    \n",
    "    for i in range(10):\n",
    "        kernel = cv2.getStructuringElement(cv2.MORPH_ELLIPSE,(5,5))\n",
    "        im_wo = cv2.dilate(im,kernel,iterations=3)\n",
    "        im = np.bitwise_or(im,mouth)\n",
    "        im = cv2.bitwise_and(im_wo,im)\n",
    "#     im = np.bitwise_or(im,mouth)\n",
    "    \n",
    "    \n",
    "#   FINAL ROTATION\n",
    "\n",
    "    im = rot_image(im,angle)\n",
    "#     rect = cv2.minAreaRect(face_mask)\n",
    "#     box = cv2.boxPoints(rect)\n",
    "#     box = np.int0(box)\n",
    "#     cv2.drawContours(im,[box],0,(0,0,255),2)\n",
    "    images.append(im)\n",
    "    \n",
    "    \n",
    "#   RESIZE\n",
    "\n",
    "    x,y,w,h = cv2.boundingRect(dil2)\n",
    "    im_crop = im[y:y+h , x:x+w]\n",
    "    im_crop = cv2.resize(im_crop,(256,256))\n",
    "    \n",
    "#     cv2.imwrite(write+str(c)+\".png\",im_crop)\n",
    "    \n",
    "    images.append(im_crop)\n",
    "    vis.append(images)\n",
    "    eye_vis.append(eye_images)"
   ]
  },
  {
   "cell_type": "markdown",
   "metadata": {},
   "source": [
    "## Visualizations"
   ]
  },
  {
   "cell_type": "code",
   "execution_count": 11,
   "metadata": {
    "scrolled": false
   },
   "outputs": [
    {
     "data": {
      "image/png": "[encoded data removed]",
      "text/plain": [
       "<Figure size 1440x1440 with 28 Axes>"
      ]
     },
     "execution_count": 11,
     "metadata": {},
     "output_type": "execute_result"
    }
   ],
   "source": [
    "fig, ax = plt.subplots(4, len(vis[0]), figsize=(20, 20))\n",
    "fig.subplots_adjust(hspace=0, wspace=0)\n",
    "    \n",
    "for i in range(4):\n",
    "    for j in range(len(vis[0])):\n",
    "        ax[i, j].xaxis.set_major_locator(plt.NullLocator())\n",
    "        ax[i, j].yaxis.set_major_locator(plt.NullLocator())\n",
    "        ax[i, j].imshow(cv2.cvtColor(vis[i][j],cv2.COLOR_GRAY2BGR), cmap=\"bone\")\n",
    "fig"
   ]
  },
  {
   "cell_type": "code",
   "execution_count": 12,
   "metadata": {
    "collapsed": true
   },
   "outputs": [],
   "source": [
    "images = vis[1]\n",
    "face_mask = images[3]\n",
    "\n",
    "draw_im = face_mask\n",
    "_, contours, hierarchy = cv2.findContours(draw_im.copy() ,cv2.RETR_TREE, cv2.CHAIN_APPROX_SIMPLE)\n",
    "contour = contours[0]\n",
    "\n",
    "draw = cv2.cvtColor(face_mask, cv2.COLOR_GRAY2BGR)\n",
    "# cv2.drawContours(draw, [contour], 0, (0,255,0), 2)\n",
    "\n",
    "rotrect = cv2.minAreaRect(contour)\n",
    "\n",
    "box = cv2.boxPoints(rotrect)\n",
    "box = np.int0(box)\n",
    "cv2.drawContours(draw, [box], 0, (0,0,255), 2)\n",
    "    \n",
    "plot1 = []\n",
    "plot1 = [draw]\n",
    "plot1 += eye_vis[1]"
   ]
  },
  {
   "cell_type": "code",
   "execution_count": 13,
   "metadata": {},
   "outputs": [
    {
     "data": {
      "image/png": "[encoded data removed]",
      "text/plain": [
       "<Figure size 1440x1440 with 3 Axes>"
      ]
     },
     "execution_count": 13,
     "metadata": {},
     "output_type": "execute_result"
    }
   ],
   "source": [
    "fig, ax = plt.subplots(1, len(plot1), figsize=(20, 20))\n",
    "fig.subplots_adjust(hspace=0, wspace=0)\n",
    "    \n",
    "for i in range(len(plot1)):\n",
    "    ax[i].xaxis.set_major_locator(plt.NullLocator())\n",
    "    ax[i].yaxis.set_major_locator(plt.NullLocator())\n",
    "    ax[i].imshow(plot1[i], cmap=\"bone\")\n",
    "fig"
   ]
  },
  {
   "cell_type": "markdown",
   "metadata": {},
   "source": [
    "## Rotations"
   ]
  },
  {
   "cell_type": "code",
   "execution_count": 14,
   "metadata": {},
   "outputs": [
    {
     "data": {
      "image/png": "[encoded data removed]",
      "text/plain": [
       "<Figure size 1440x1440 with 14 Axes>"
      ]
     },
     "execution_count": 14,
     "metadata": {},
     "output_type": "execute_result"
    }
   ],
   "source": [
    "# ROTATIONS\n",
    "fig, ax = plt.subplots(2, len(vis), figsize=(20, 20))\n",
    "fig.subplots_adjust(hspace=0, wspace=0)\n",
    "    \n",
    "for i in range(len(vis)):\n",
    "    ax[0,i].xaxis.set_major_locator(plt.NullLocator())\n",
    "    ax[0,i].yaxis.set_major_locator(plt.NullLocator())\n",
    "    ax[0,i].imshow(cv2.cvtColor(vis[i][4],cv2.COLOR_GRAY2BGR), cmap=\"bone\")\n",
    "    ax[1,i].xaxis.set_major_locator(plt.NullLocator())\n",
    "    ax[1,i].yaxis.set_major_locator(plt.NullLocator())\n",
    "    ax[1,i].imshow(cv2.cvtColor(vis[i][5],cv2.COLOR_GRAY2BGR), cmap=\"bone\")\n",
    "fig"
   ]
  },
  {
   "cell_type": "markdown",
   "metadata": {},
   "source": [
    "## Augmentation"
   ]
  },
  {
   "cell_type": "code",
   "execution_count": null,
   "metadata": {
    "collapsed": true
   },
   "outputs": [],
   "source": [
    "# horizontally flipping the image (category remains the same)\n",
    "for i in range(1,5001):\n",
    "    c = i\n",
    "    im = cv2.imread('./images/v11/'+str(c)+'.png',0)\n",
    "    im = cv2.flip(im,1)\n",
    "    cv2.imwrite('./images/v11/'+str(c+5000)+\".png\",im)"
   ]
  },
  {
   "cell_type": "code",
   "execution_count": 168,
   "metadata": {
    "collapsed": true,
    "scrolled": true
   },
   "outputs": [],
   "source": [
    "# find image ids of categories 1, 2 and 3\n",
    "solve = pd.read_csv(\"./solution.csv\")\n",
    "ids = [solve['id'][i] for i in range(len(solve['id'])) if solve['category'][i] in [1,2,3]]"
   ]
  },
  {
   "cell_type": "code",
   "execution_count": 169,
   "metadata": {
    "collapsed": true
   },
   "outputs": [],
   "source": [
    "# contains categories\n",
    "cat = list(solve['category'])\n",
    "cat += cat"
   ]
  },
  {
   "cell_type": "code",
   "execution_count": 170,
   "metadata": {
    "collapsed": true
   },
   "outputs": [],
   "source": [
    "# contains count of the number of images used to train\n",
    "cnt = 10001\n",
    "\n",
    "# adds extra images to training data \n",
    "# vertically flipping categories 1, 2, and 3 give 6, 5 and 4 categories respectively\n",
    "for i in ids:\n",
    "    c = i\n",
    "    read = './images/v11/'\n",
    "    write = './images/v11/'\n",
    "    \n",
    "    im1 = cv2.imread(read+str(c)+'.png',0)\n",
    "    im2 = cv2.imread(read+str(c+5000)+'.png',0)\n",
    "    \n",
    "    im1 = cv2.flip(im1,0)\n",
    "    im2 = cv2.flip(im2,0)\n",
    "    \n",
    "    nid = 6\n",
    "    if solve['category'][c-1] == 1:\n",
    "        nid = 6\n",
    "    elif solve['category'][c-1] == 2:\n",
    "        nid = 5\n",
    "    else:\n",
    "        nid = 4\n",
    "    \n",
    "    cat += [nid]\n",
    "    cat += [nid]\n",
    "    \n",
    "    cv2.imwrite(write+str(cnt)+\".png\",im1)\n",
    "    cnt += 1\n",
    "    cv2.imwrite(write+str(cnt)+\".png\",im2)\n",
    "    cnt += 1"
   ]
  },
  {
   "cell_type": "code",
   "execution_count": 171,
   "metadata": {},
   "outputs": [
    {
     "name": "stdout",
     "output_type": "stream",
     "text": [
      "14890\n",
      "14890\n"
     ]
    }
   ],
   "source": [
    "# new ids from 1 to cnt-1\n",
    "nids = list(range(1,cnt))\n",
    "\n",
    "print(len(cat))\n",
    "print(len(nids))"
   ]
  },
  {
   "cell_type": "code",
   "execution_count": 172,
   "metadata": {
    "collapsed": true
   },
   "outputs": [],
   "source": [
    "# save the ids and category to csv\n",
    "sol = {\n",
    "    'id' : nids,\n",
    "    'category' : cat\n",
    "}\n",
    "df = pd.DataFrame(sol)\n",
    "df.to_csv('./images/v11.csv')"
   ]
  },
  {
   "cell_type": "code",
   "execution_count": 294,
   "metadata": {
    "collapsed": true
   },
   "outputs": [],
   "source": [
    "im1 = cv2.imread('./images/v6/'+str(4)+'.png',0)\n",
    "im2 = cv2.imread('./images/v6/'+str(5004)+'.png',0)\n",
    "im3 = cv2.imread('./images/v6/'+str(10001)+'.png',0)\n",
    "im4 = cv2.imread('./images/v6/'+str(10002)+'.png',0)\n",
    "images = [im1,im2,im3,im4]"
   ]
  },
  {
   "cell_type": "code",
   "execution_count": 297,
   "metadata": {},
   "outputs": [
    {
     "name": "stderr",
     "output_type": "stream",
     "text": [
      "/home/navpun31/anaconda3/lib/python3.6/site-packages/matplotlib/pyplot.py:537: RuntimeWarning: More than 20 figures have been opened. Figures created through the pyplot interface (`matplotlib.pyplot.figure`) are retained until explicitly closed and may consume too much memory. (To control this warning, see the rcParam `figure.max_open_warning`).\n",
      "  max_open_warning, RuntimeWarning)\n"
     ]
    },
    {
     "data": {
      "image/png": "[encoded data removed]",
      "text/plain": [
       "<Figure size 1440x1440 with 4 Axes>"
      ]
     },
     "execution_count": 297,
     "metadata": {},
     "output_type": "execute_result"
    }
   ],
   "source": [
    "fig, ax = plt.subplots(1, len(images), figsize=(20, 20))\n",
    "fig.subplots_adjust(hspace=0, wspace=0)\n",
    "    \n",
    "for i in range(len(images)):\n",
    "    ax[i].xaxis.set_major_locator(plt.NullLocator())\n",
    "    ax[i].yaxis.set_major_locator(plt.NullLocator())\n",
    "    ax[i].imshow(images[i], cmap=\"bone\")\n",
    "fig"
   ]
  },
  {
   "cell_type": "code",
   "execution_count": null,
   "metadata": {
    "collapsed": true
   },
   "outputs": [],
   "source": []
  },
  {
   "cell_type": "markdown",
   "metadata": {
    "collapsed": true
   },
   "source": [
    "## Experiments"
   ]
  },
  {
   "cell_type": "code",
   "execution_count": 341,
   "metadata": {
    "collapsed": true
   },
   "outputs": [],
   "source": [
    "# # CIRCLE DETECTION\n",
    "# cimg = cv2.cvtColor(im,cv2.COLOR_GRAY2BGR)\n",
    "\n",
    "# circles = cv2.HoughCircles(im, cv2.HOUGH_GRADIENT, 1, 260, param1=30, param2=65, minRadius=0, maxRadius=0)\n",
    "# if circles is not None:\n",
    "#     circles = np.uint16(np.around(circles))\n",
    "#     print(c, len(circles))\n",
    "#     print(circles)\n",
    "#     for i in circles[0,:]:\n",
    "#         cv2.circle(cimg,(i[0],i[1]),i[2],(0,255,0),2)\n",
    "#         cv2.circle(cimg,(i[0],i[1]),2,(0,0,255),3)\n",
    "\n",
    "# edges = cv2.Canny(im,50,150,apertureSize = 3)\n",
    "\n",
    "# # LINE DETECTION\n",
    "# lines = cv2.HoughLines(edges,1,np.pi/180,200)\n",
    "# if lines is not None:\n",
    "#     for rho,theta in lines[0]:\n",
    "#         a = np.cos(theta)\n",
    "#         b = np.sin(theta)\n",
    "#         x0 = a*rho\n",
    "#         y0 = b*rho\n",
    "#         x1 = int(x0 + 1000*(-b))\n",
    "#         y1 = int(y0 + 1000*(a))\n",
    "#         x2 = int(x0 - 1000*(-b))\n",
    "#         y2 = int(y0 - 1000*(a))\n",
    "\n",
    "#         cv2.line(cimg,(x1,y1),(x2,y2),(0,0,255),2)"
   ]
  },
  {
   "cell_type": "code",
   "execution_count": null,
   "metadata": {},
   "outputs": [
    {
     "name": "stderr",
     "output_type": "stream",
     "text": [
      "/home/navpun31/anaconda3/lib/python3.6/site-packages/skimage/morphology/misc.py:127: UserWarning: Only one label was provided to `remove_small_objects`. Did you mean to use a boolean array?\n",
      "  warn(\"Only one label was provided to `remove_small_objects`. \"\n"
     ]
    }
   ],
   "source": [
    "# for i in range(1,40001):\n",
    "#     c = i\n",
    "#     mi = cv2.imread(path_test+str(c)+'.png',0)\n",
    "    \n",
    "# #   ---------------\n",
    "    \n",
    "#     ret,mi2 = cv2.threshold(mi,20,255,cv2.THRESH_BINARY_INV)\n",
    "#     dil = rm_small(mi2,22)\n",
    "#     kernel = np.ones((1,1),np.uint8)\n",
    "# #     dil = cv2.dilate(dil,kernel,iterations = 1)\n",
    "#     dil = cv2.erode(dil,kernel,iterations = 3)\n",
    "    \n",
    "#     kernel = np.ones((4,4),np.uint8)\n",
    "#     dil_dot = cv2.morphologyEx(dil, cv2.MORPH_OPEN, kernel)\n",
    "#     dil = np.subtract(dil,dil_dot)\n",
    "#     dil = rm_small(dil,15)\n",
    "    \n",
    "# #   ---------------- MASK\n",
    "    \n",
    "#     ret,white = cv2.threshold(mi,250,255,cv2.THRESH_BINARY)\n",
    "#     ret,black = cv2.threshold(mi,20,255,cv2.THRESH_BINARY_INV)\n",
    "    \n",
    "#     mask = np.bitwise_or(black,white)\n",
    "#     mask = ~mask\n",
    "#     dil1 = rm_small(mask,150)\n",
    "#     dil1_i = ~dil1\n",
    "\n",
    "# #     kernel = np.ones((4,4),np.uint8)\n",
    "# #     dil1 = cv2.erode(dil1,kernel,iterations = 4)\n",
    "# #     dil1 = cv2.dilate(dil1,kernel,iterations = 4)\n",
    "# #     dil1 = cv2.dilate(dil1,kernel,iterations = 5)\n",
    "# #     dil1 = cv2.erode(dil1,kernel,iterations = 15)\n",
    "\n",
    "#     dil1_i = rm_small(dil1_i,1200)\n",
    "#     dil2 = ~dil1_i\n",
    "    \n",
    "# #     kernel = np.ones((5,5),np.uint8)\n",
    "#     kernel = cv2.getStructuringElement(cv2.MORPH_ELLIPSE,(5,5))\n",
    "#     dil2 = cv2.erode(dil2,kernel,iterations = 3)\n",
    "#     dil2 = rm_small(dil2,10)\n",
    "    \n",
    "#     # cv2.imwrite(path2+str(c)+\"_dil1.png\",dil1)\n",
    "#     # cv2.imwrite(path2+str(c)+\"_dil1_i.png\",dil1_i)\n",
    "#     # cv2.imwrite(path2+str(c)+\"_dil2.png\",dil2)\n",
    "\n",
    "#     im = np.bitwise_and(dil,dil2)\n",
    "#     im = np.uint8(im)\n",
    "\n",
    "# #     cv2.imwrite(path2+str(c)+\"_im.png\",dil2)\n",
    "    \n",
    "# #   ----------------- BOUNDING BOX\n",
    "\n",
    "#     x,y,w,h = cv2.boundingRect(dil2)\n",
    "#     im_crop = im[y:y+h , x:x+w]\n",
    "# #     im_crop = np.array(im_crop)\n",
    "#     im_crop = cv2.resize(im_crop,(128,128))\n",
    "#     cv2.imwrite('./images/test_v1/'+str(c)+\".png\",im_crop)"
   ]
  },
  {
   "cell_type": "code",
   "execution_count": 174,
   "metadata": {},
   "outputs": [
    {
     "name": "stderr",
     "output_type": "stream",
     "text": [
      "/home/navpun31/anaconda3/lib/python3.6/site-packages/skimage/morphology/misc.py:127: UserWarning: Only one label was provided to `remove_small_objects`. Did you mean to use a boolean array?\n",
      "  warn(\"Only one label was provided to `remove_small_objects`. \"\n"
     ]
    }
   ],
   "source": [
    "# for i in range(1,40001):\n",
    "#     c = i\n",
    "# #     read = path\n",
    "#     read = path_test\n",
    "    \n",
    "# #     write = path_pg\n",
    "# #     write = './images/v11/'\n",
    "#     write = './images/test_v10/'\n",
    "    \n",
    "#     mi = cv2.imread(read+str(c)+'.png',0)\n",
    "    \n",
    "# #   ---------------\n",
    "    \n",
    "#     ret,mi2 = cv2.threshold(mi,20,255,cv2.THRESH_BINARY_INV)\n",
    "#     dil = rm_small(mi2,22)\n",
    "#     kernel = np.ones((1,1),np.uint8)\n",
    "# #     dil = cv2.dilate(dil,kernel,iterations = 1)\n",
    "#     dil = cv2.erode(dil,kernel,iterations = 3)\n",
    "    \n",
    "#     kernel = np.ones((4,4),np.uint8)\n",
    "#     dil_dot = cv2.morphologyEx(dil, cv2.MORPH_OPEN, kernel)\n",
    "#     dil_dot_i = ~dil_dot\n",
    "#     dil = np.bitwise_and(dil,dil_dot_i)\n",
    "#     dil = rm_small(dil,15)\n",
    "    \n",
    "# #   ---------------- FACE MASK\n",
    "    \n",
    "#     ret,white = cv2.threshold(mi,250,255,cv2.THRESH_BINARY)\n",
    "#     ret,black = cv2.threshold(mi,20,255,cv2.THRESH_BINARY_INV)\n",
    "    \n",
    "#     mask = np.bitwise_or(black,white)\n",
    "#     mask = ~mask\n",
    "#     dil1 = rm_small(mask,150)\n",
    "#     dil1_i = ~dil1\n",
    "\n",
    "# #     kernel = np.ones((4,4),np.uint8)\n",
    "# #     dil1 = cv2.erode(dil1,kernel,iterations = 4)\n",
    "# #     dil1 = cv2.dilate(dil1,kernel,iterations = 4)\n",
    "# #     dil1 = cv2.dilate(dil1,kernel,iterations = 5)\n",
    "# #     dil1 = cv2.erode(dil1,kernel,iterations = 15)\n",
    "\n",
    "#     dil1_i = rm_small(dil1_i,1200)\n",
    "#     dil2 = ~dil1_i\n",
    "    \n",
    "# #     kernel = np.ones((5,5),np.uint8)\n",
    "#     kernel = cv2.getStructuringElement(cv2.MORPH_ELLIPSE,(5,5))\n",
    "#     dil2 = cv2.erode(dil2,kernel,iterations = 3)\n",
    "#     dil2 = rm_small(dil2,10)\n",
    "#     face_mask = dil2\n",
    "    \n",
    "#     # cv2.imwrite(path2+str(c)+\"_dil1.png\",dil1)\n",
    "#     # cv2.imwrite(path2+str(c)+\"_dil1_i.png\",dil1_i)\n",
    "#     # cv2.imwrite(path2+str(c)+\"_dil2.png\",dil2)\n",
    "\n",
    "#     im = np.bitwise_and(dil,face_mask)\n",
    "#     im = np.uint8(im)\n",
    "    \n",
    "# #   ----------------- EYES\n",
    "\n",
    "# #     eyes = np.bitwise_and(white,face_mask)\n",
    "# #     eyes = rm_small(eyes,30)\n",
    "    \n",
    "# #     kernel = cv2.getStructuringElement(cv2.MORPH_ELLIPSE,(3,3))\n",
    "# #     eyes = cv2.dilate(eyes,kernel,iterations = 3)\n",
    "# #     eyes = cv2.erode(eyes,kernel,iterations = 3)\n",
    "    \n",
    "# #     eyes = rm_small(eyes,30)\n",
    "# #     im = np.bitwise_or(im,eyes)\n",
    "    \n",
    "# #   ----------------- MOUTH\n",
    "\n",
    "#     mouth = np.bitwise_and(black,face_mask)\n",
    "# #     mouth = ~mouth\n",
    "# #     mouth = cv2.morphologyEx(mouth, cv2.MORPH_GRADIENT, kernel)\n",
    "# #     mouth = cv2.dilate(mouth,kernel,iterations = 2)\n",
    "# #     mouth = cv2.morphologyEx(mouth, cv2.MORPH_GRADIENT, kernel)\n",
    "    \n",
    "# #   ----------------- NOISE REM\n",
    "    \n",
    "#     kernel = cv2.getStructuringElement(cv2.MORPH_ELLIPSE,(2,2))\n",
    "#     im = cv2.dilate(im,kernel,iterations = 2)\n",
    "#     im = cv2.erode(im,kernel,iterations = 2)\n",
    "    \n",
    "#     im = cv2.morphologyEx(im, cv2.MORPH_GRADIENT, kernel)\n",
    "#     im = cv2.morphologyEx(im, cv2.MORPH_CLOSE, kernel)\n",
    "    \n",
    "# #   ----------------- VERTICAL ALIGNMENT\n",
    "    \n",
    "# #     draw_im = face_mask\n",
    "# #     _, contours, hierarchy = cv2.findContours(draw_im.copy() ,cv2.RETR_TREE, cv2.CHAIN_APPROX_SIMPLE)\n",
    "# #     contour = contours[0]\n",
    "    \n",
    "# #     draw = cv2.cvtColor(im, cv2.COLOR_GRAY2BGR)\n",
    "# # #     cv2.drawContours(draw, [contour], 0, (0,255,0), 2)\n",
    "    \n",
    "# #     rotrect = cv2.minAreaRect(contour)\n",
    "    \n",
    "# # #     box = cv2.boxPoints(rotrect)\n",
    "# # #     box = np.int0(box)\n",
    "# # #     cv2.drawContours(draw, [box], 0, (0,0,255), 2)\n",
    "    \n",
    "# # #     imc = crop_minAreaRect(im, rotrect)\n",
    "    \n",
    "# #     e1 = rot_image(eyes,rotrect[2])\n",
    "# #     e2 = rot_image(eyes,rotrect[2]+90)\n",
    "# #     n_eyes = count_eyes(e1)\n",
    "    \n",
    "# #     kernel = cv2.getStructuringElement(cv2.MORPH_ELLIPSE,(4,4))\n",
    "# #     e1 = cv2.dilate(e1,kernel,iterations = 5)\n",
    "# #     e2 = cv2.dilate(e2,kernel,iterations = 5)\n",
    "    \n",
    "# #     angle = rotrect[2]\n",
    "# #     if (n_eyes > 1):\n",
    "# #         if vert_count(e1) > vert_count(e2):\n",
    "# #             angle += 90\n",
    "# #     else:\n",
    "# # #         kernel = cv2.getStructuringElement(cv2.MORPH_ELLIPSE,(2,2))\n",
    "# # #         e1 = cv2.dilate(e1,kernel,iterations = 3)\n",
    "# # #         e2 = cv2.dilate(e1,kernel,iterations = 3)\n",
    "# #         im1 = rot_image(im,angle)\n",
    "# #         im2 = rot_image(im,angle+90)\n",
    "        \n",
    "# #         e1i = ~e1\n",
    "# #         e2i = ~e2\n",
    "# #         im1 = np.bitwise_and(e1i,im1)\n",
    "# #         im2 = np.bitwise_and(e2i,im2)\n",
    "        \n",
    "# #         if vert_count(im1) < vert_count(im2):\n",
    "# #             angle += 90\n",
    "    \n",
    "# #   ------------------- NOISE REM\n",
    "    \n",
    "# #     for i in range(10):\n",
    "# #         kernel = cv2.getStructuringElement(cv2.MORPH_ELLIPSE,(5,5))\n",
    "# #         im_wo = cv2.dilate(im,kernel,iterations=3)\n",
    "# #         im = np.bitwise_or(im,mouth)\n",
    "# #         im = cv2.bitwise_and(im_wo,im)\n",
    "    \n",
    "#     im = np.bitwise_or(im,mouth)\n",
    "\n",
    "# #     im = rot_image(im,angle)\n",
    "    \n",
    "    \n",
    "# #     rect = cv2.minAreaRect(face_mask)\n",
    "# #     box = cv2.boxPoints(rect)\n",
    "# #     box = np.int0(box)\n",
    "# #     cv2.drawContours(im,[box],0,(0,0,255),2)\n",
    "    \n",
    "# #   ----------------- RESIZE\n",
    "\n",
    "#     x,y,w,h = cv2.boundingRect(dil2)\n",
    "#     im_crop = im[y:y+h , x:x+w]\n",
    "#     im_crop = cv2.resize(im_crop,(256,256))\n",
    "    \n",
    "#     cv2.imwrite(write+str(c)+\".png\",im_crop)"
   ]
  }
 ],
 "metadata": {
  "kernelspec": {
   "display_name": "Python 3",
   "language": "python",
   "name": "python3"
  },
  "language_info": {
   "codemirror_mode": {
    "name": "ipython",
    "version": 3
   },
   "file_extension": ".py",
   "mimetype": "text/x-python",
   "name": "python",
   "nbconvert_exporter": "python",
   "pygments_lexer": "ipython3",
   "version": "3.6.6"
  }
 },
 "nbformat": 4,
 "nbformat_minor": 2
}
